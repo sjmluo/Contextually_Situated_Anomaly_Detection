{
 "cells": [
  {
   "cell_type": "markdown",
   "id": "8e0bbda6",
   "metadata": {},
   "source": [
    "## Package imports and data setup\n",
    "\n",
    "These steps are identical to those in `intro_streaming_bookshelf`."
   ]
  },
  {
   "cell_type": "code",
   "execution_count": null,
   "id": "3a5116bb",
   "metadata": {},
   "outputs": [],
   "source": [
    "import pandas as pd\n",
    "import numpy as np\n",
    "import matplotlib.pyplot as plt\n",
    "\n",
    "import stumpy # Matrix Profile\n",
    "from stumpy.floss import _cac # One sided cac\n",
    "\n",
    "import ot # Optimal Transport\n",
    "\n",
    "from vmdpy import VMD # Variational Mode Decomposition \n",
    "\n",
    "from ruptures.metrics import hausdorff # Quantifying Break Point Discrepancies\n",
    "\n",
    "# Utils\n",
    "import time\n",
    "import os\n",
    "loc = os.getcwd() \n",
    "\n",
    "# Matplotlib Params\n",
    "import matplotlib\n",
    "font = {'family' : 'DejaVu Sans',\n",
    "        'weight' : 'bold',\n",
    "        'size'   : 16}\n",
    "\n",
    "matplotlib.rc('font', **font)\n",
    "\n",
    "from matplotlib import animation\n",
    "from IPython.display import HTML\n",
    "\n",
    "import scripts\n",
    "\n"
   ]
  },
  {
   "cell_type": "code",
   "execution_count": null,
   "id": "3fc146d5",
   "metadata": {},
   "outputs": [],
   "source": [
    "data_dict = np.load('data_dict.npy', allow_pickle=True).item()\n",
    "cases = [['L00','D00','V08'], ['L1C','DB0','V08'],  ['L1C','DBB','V08'], ['L13','DBB','V08']]\n",
    "\n",
    "df_list = scripts.exp_list_process(data_dict, cases, 10)"
   ]
  },
  {
   "cell_type": "code",
   "execution_count": null,
   "id": "0d5712a9",
   "metadata": {},
   "outputs": [],
   "source": []
  },
  {
   "cell_type": "markdown",
   "id": "33aa94a9",
   "metadata": {},
   "source": [
    "# Processing sensor 1 (only Welch)\n",
    "In this section, for the sake of examining false positives in the simplest scenario in which we observed one, we Welch transform the raw data for Sensor 1 (no VMD). "
   ]
  },
  {
   "cell_type": "code",
   "execution_count": null,
   "id": "5d53d459",
   "metadata": {},
   "outputs": [],
   "source": [
    "# Compute the welch transform then concatenate transformed data into a single time series.\n",
    "building_features = scripts.welch_vmd(df_list['Sensor1'])\n",
    "building_features_seq = scripts.data_sequencing(building_features, vmd=0)"
   ]
  },
  {
   "cell_type": "markdown",
   "id": "6df158f4",
   "metadata": {},
   "source": [
    "# Investigating CAC Curves\n",
    "\n",
    "Here, we reproduce the figures from section 4.1, _Improvements to the Corrected Arc Curve in the context of Batch Processing for Streaming Algorithms_, used to investigate the false positives occurring in the first frames of each of our FLOSS Streaming demonstrations.\n"
   ]
  },
  {
   "cell_type": "code",
   "execution_count": null,
   "id": "b5343cac",
   "metadata": {},
   "outputs": [],
   "source": [
    "m=100\n",
    "L=m\n",
    "old_data = building_features_seq[:513*5]\n"
   ]
  },
  {
   "cell_type": "markdown",
   "id": "154d1fb3",
   "metadata": {},
   "source": [
    "Figure 48: Welch transformation of batch data introduces artificial periodicity as an artefact of the\n",
    "batch processing algorithm."
   ]
  },
  {
   "cell_type": "code",
   "execution_count": null,
   "id": "7a7c9f6b",
   "metadata": {},
   "outputs": [],
   "source": [
    "plt.plot(old_data)\n",
    "plt.axvline(513,color='pink')\n",
    "plt.axvline(513*2,color='pink')\n",
    "plt.axvline(513*3,color='pink')\n",
    "plt.axvline(513*4,color='pink')"
   ]
  },
  {
   "cell_type": "markdown",
   "id": "126bc84a",
   "metadata": {},
   "source": [
    "## False positive images"
   ]
  },
  {
   "cell_type": "code",
   "execution_count": null,
   "id": "5366ccb5",
   "metadata": {},
   "outputs": [],
   "source": [
    "mp = stumpy.stump(old_data, m=m)\n",
    "cac_1d = _cac(mp[:, 3], L, bidirectional=False, excl_factor=1)  # This is for demo purposes only. Use floss() below!\n"
   ]
  },
  {
   "cell_type": "markdown",
   "id": "11203f1c",
   "metadata": {},
   "source": [
    "Figure 49, image 1: CAC at false positive."
   ]
  },
  {
   "cell_type": "code",
   "execution_count": null,
   "id": "f90b6cc3",
   "metadata": {},
   "outputs": [],
   "source": [
    "plt.plot(cac_1d)\n"
   ]
  },
  {
   "cell_type": "markdown",
   "id": "6c0e3191",
   "metadata": {},
   "source": [
    "Figure 49, image 2: Arc curve at false positive."
   ]
  },
  {
   "cell_type": "code",
   "execution_count": null,
   "id": "23a6d7d7",
   "metadata": {},
   "outputs": [],
   "source": [
    "from stumpy.floss import _nnmark\n",
    "plt.plot(_nnmark(mp[:,3]))\n",
    "plt.axvline(513,color='paleturquoise')\n",
    "plt.axvline(513*2,color='paleturquoise')\n",
    "plt.axvline(513*3,color='paleturquoise')\n",
    "plt.axvline(513*4,color='paleturquoise')"
   ]
  },
  {
   "cell_type": "markdown",
   "id": "2b65a588",
   "metadata": {},
   "source": [
    "Figure 49, image 5: right nearest neighbour indices at FP"
   ]
  },
  {
   "cell_type": "code",
   "execution_count": null,
   "id": "85a292de",
   "metadata": {},
   "outputs": [],
   "source": [
    "plt.plot(mp[:,3])\n",
    "plt.axhline(y=513,color='pink')\n",
    "x1=[0,2000]\n",
    "y1=[513,2513]\n",
    "plt.plot(x1,y1,'--',color='orange')\n",
    "x2=[0,1500]\n",
    "y2=[2*513,2*513+1500]\n",
    "plt.plot(x2,y2,'--',color='orange')\n",
    "x3=[0,1000]\n",
    "y3=[3*513,3*513+1000]\n",
    "plt.plot(x3,y3,'--',color='orange')\n",
    "x4=[0,2000]\n",
    "y4=[0,2000]\n",
    "# plt.plot(x4,y4,'--',color='orange')\n",
    "plt.axvline(513,color='paleturquoise')\n",
    "plt.axvline(513*2,color='paleturquoise')\n",
    "plt.axvline(513*3,color='paleturquoise')\n",
    "plt.axvline(513*4,color='paleturquoise')"
   ]
  },
  {
   "cell_type": "markdown",
   "id": "976510ae",
   "metadata": {},
   "source": [
    "## True Positive images"
   ]
  },
  {
   "cell_type": "code",
   "execution_count": null,
   "id": "403be4f7",
   "metadata": {},
   "outputs": [],
   "source": [
    "first_reg_change = building_seq[513*7:513*12]\n",
    "mp = stumpy.stump(first_reg_change, m=m)\n",
    "cac_1d = _cac(mp[:, 3], L, bidirectional=False, excl_factor=1)  # This is for demo purposes only. Use floss() below!\n"
   ]
  },
  {
   "cell_type": "markdown",
   "id": "ef9b71eb",
   "metadata": {},
   "source": [
    "Figure 49, image 3: CAC at true positive"
   ]
  },
  {
   "cell_type": "code",
   "execution_count": null,
   "id": "a22e9b10",
   "metadata": {},
   "outputs": [],
   "source": [
    "plt.plot(cac_1d)\n",
    "plt.axvline(x=513*3,color='red')\n",
    "plt.axvline(x=513*2,color='orange')"
   ]
  },
  {
   "cell_type": "markdown",
   "id": "957881af",
   "metadata": {},
   "source": [
    "Figure 49, image 4: Arc Curve at true positive"
   ]
  },
  {
   "cell_type": "code",
   "execution_count": null,
   "id": "9b8693c9",
   "metadata": {},
   "outputs": [],
   "source": [
    "plt.plot(_nnmark(mp[:,3]))\n",
    "plt.axvline(x=513*3,color='red')\n",
    "plt.axvline(x=513*2,color='orange')"
   ]
  },
  {
   "cell_type": "markdown",
   "id": "de9620c7",
   "metadata": {},
   "source": [
    "Figure 49, image 6: right nearest neighbour indices at true positive"
   ]
  },
  {
   "cell_type": "code",
   "execution_count": null,
   "id": "9a0564a4",
   "metadata": {},
   "outputs": [],
   "source": [
    "plt.plot(mp[:,3])\n",
    "plt.axvline(x=513*3,color='red')\n",
    "plt.axvline(x=513*2,color='orange')\n",
    "# plt.axvline(x=513*3-100,color='yellow')\n",
    "x1=[0,2000]\n",
    "y1=[513,2513]\n",
    "plt.plot(x1,y1,'--',color='orange')\n",
    "x2=[0,1500]\n",
    "y2=[2*513,2*513+1500]\n",
    "plt.plot(x2,y2,'--',color='orange')\n",
    "x3=[0,1000]\n",
    "y3=[3*513,3*513+1000]\n",
    "plt.plot(x3,y3,'--',color='orange')\n",
    "x4=[0,2000]\n",
    "y4=[0,2000]\n",
    "plt.plot(x4,y4,'--',color='orange')"
   ]
  }
 ],
 "metadata": {
  "kernelspec": {
   "display_name": "Python 3 (ipykernel)",
   "language": "python",
   "name": "python3"
  },
  "language_info": {
   "codemirror_mode": {
    "name": "ipython",
    "version": 3
   },
   "file_extension": ".py",
   "mimetype": "text/x-python",
   "name": "python",
   "nbconvert_exporter": "python",
   "pygments_lexer": "ipython3",
   "version": "3.9.7"
  }
 },
 "nbformat": 4,
 "nbformat_minor": 5
}
